{
 "cells": [
  {
   "cell_type": "markdown",
   "id": "10dcc269-3659-4851-99cd-f1ffb7f818aa",
   "metadata": {
    "tags": []
   },
   "source": [
    "## Data\n",
    "\n",
    "El equipo del startup a compartido los siguientes datos:\n",
    "\n",
    "#### Redesign test data\n",
    "- \"treatment\" - \"yes\" si el usuario vió la nueva versión de la página web, no en otro caso.\n",
    "- \"new_images\" - \"yes\" si la página uso el nuevo conjunto de imagenes, no en otro caso.\n",
    "- \"converted\" - 1 si el usuario se unio al sitio, 0 en otro caso.\n",
    "\n",
    "El grupo de control son los usuarios con \"no\" en ambas columnas: la versión antigua con el viejo conjunto de imagenes."
   ]
  },
  {
   "cell_type": "code",
   "execution_count": 41,
   "id": "40251159-3eea-47f8-bfb4-09e38d5ced65",
   "metadata": {},
   "outputs": [
    {
     "data": {
      "text/html": [
       "<div>\n",
       "<style scoped>\n",
       "    .dataframe tbody tr th:only-of-type {\n",
       "        vertical-align: middle;\n",
       "    }\n",
       "\n",
       "    .dataframe tbody tr th {\n",
       "        vertical-align: top;\n",
       "    }\n",
       "\n",
       "    .dataframe thead th {\n",
       "        text-align: right;\n",
       "    }\n",
       "</style>\n",
       "<table border=\"1\" class=\"dataframe\">\n",
       "  <thead>\n",
       "    <tr style=\"text-align: right;\">\n",
       "      <th></th>\n",
       "      <th>treatment</th>\n",
       "      <th>new_images</th>\n",
       "      <th>converted</th>\n",
       "    </tr>\n",
       "  </thead>\n",
       "  <tbody>\n",
       "    <tr>\n",
       "      <th>0</th>\n",
       "      <td>yes</td>\n",
       "      <td>yes</td>\n",
       "      <td>0</td>\n",
       "    </tr>\n",
       "    <tr>\n",
       "      <th>1</th>\n",
       "      <td>yes</td>\n",
       "      <td>yes</td>\n",
       "      <td>0</td>\n",
       "    </tr>\n",
       "    <tr>\n",
       "      <th>2</th>\n",
       "      <td>yes</td>\n",
       "      <td>yes</td>\n",
       "      <td>0</td>\n",
       "    </tr>\n",
       "    <tr>\n",
       "      <th>3</th>\n",
       "      <td>yes</td>\n",
       "      <td>no</td>\n",
       "      <td>0</td>\n",
       "    </tr>\n",
       "    <tr>\n",
       "      <th>4</th>\n",
       "      <td>no</td>\n",
       "      <td>yes</td>\n",
       "      <td>0</td>\n",
       "    </tr>\n",
       "  </tbody>\n",
       "</table>\n",
       "</div>"
      ],
      "text/plain": [
       "  treatment new_images  converted\n",
       "0       yes        yes          0\n",
       "1       yes        yes          0\n",
       "2       yes        yes          0\n",
       "3       yes         no          0\n",
       "4        no        yes          0"
      ]
     },
     "execution_count": 41,
     "metadata": {},
     "output_type": "execute_result"
    }
   ],
   "source": [
    "import pandas as pd\n",
    "import numpy as np\n",
    "from scipy import stats\n",
    "from scipy.stats import chi2_contingency\n",
    "\n",
    "df = pd.read_csv('./data/redesign.csv')\n",
    "df.head()"
   ]
  },
  {
   "cell_type": "markdown",
   "id": "cfee41ef-4245-4f18-b567-8134696d9687",
   "metadata": {},
   "source": [
    "## Preparación de Datos"
   ]
  },
  {
   "cell_type": "code",
   "execution_count": 42,
   "id": "61d09a65-7a7f-43de-951b-decb042f5bd0",
   "metadata": {},
   "outputs": [
    {
     "data": {
      "text/plain": [
       "treatment  new_images  converted\n",
       "no         no          0            9037\n",
       "           yes         0            8982\n",
       "yes        yes         0            8970\n",
       "           no          0            8906\n",
       "                       1            1215\n",
       "           yes         1            1151\n",
       "no         yes         1            1139\n",
       "           no          1            1084\n",
       "dtype: int64"
      ]
     },
     "execution_count": 42,
     "metadata": {},
     "output_type": "execute_result"
    }
   ],
   "source": [
    "df.value_counts()"
   ]
  },
  {
   "cell_type": "code",
   "execution_count": 43,
   "id": "0e868f24-7086-4670-83f6-629429d5176e",
   "metadata": {},
   "outputs": [
    {
     "name": "stdout",
     "output_type": "stream",
     "text": [
      "<class 'pandas.core.frame.DataFrame'>\n",
      "RangeIndex: 40484 entries, 0 to 40483\n",
      "Data columns (total 3 columns):\n",
      " #   Column      Non-Null Count  Dtype \n",
      "---  ------      --------------  ----- \n",
      " 0   treatment   40484 non-null  object\n",
      " 1   new_images  40484 non-null  object\n",
      " 2   converted   40484 non-null  int64 \n",
      "dtypes: int64(1), object(2)\n",
      "memory usage: 949.0+ KB\n"
     ]
    }
   ],
   "source": [
    "df.info()"
   ]
  },
  {
   "cell_type": "code",
   "execution_count": 44,
   "id": "a5090db5-a3cf-48b1-ae56-b6cfba62e8de",
   "metadata": {},
   "outputs": [
    {
     "data": {
      "text/plain": [
       "treatment     False\n",
       "new_images    False\n",
       "converted     False\n",
       "dtype: bool"
      ]
     },
     "execution_count": 44,
     "metadata": {},
     "output_type": "execute_result"
    }
   ],
   "source": [
    "df.isnull().any()"
   ]
  },
  {
   "cell_type": "code",
   "execution_count": 45,
   "id": "22926388-0932-412a-9832-2eee40b1f62a",
   "metadata": {},
   "outputs": [
    {
     "data": {
      "text/plain": [
       "treatment\n",
       "no     20242\n",
       "yes    20242\n",
       "dtype: int64"
      ]
     },
     "execution_count": 45,
     "metadata": {},
     "output_type": "execute_result"
    }
   ],
   "source": [
    "df.value_counts(df['treatment'])"
   ]
  },
  {
   "cell_type": "code",
   "execution_count": 46,
   "id": "0309801f-fd9d-4c3a-bf1c-cf904bc57522",
   "metadata": {},
   "outputs": [
    {
     "data": {
      "text/plain": [
       "new_images\n",
       "no     20242\n",
       "yes    20242\n",
       "dtype: int64"
      ]
     },
     "execution_count": 46,
     "metadata": {},
     "output_type": "execute_result"
    }
   ],
   "source": [
    "df.value_counts(df['new_images'])"
   ]
  },
  {
   "cell_type": "code",
   "execution_count": 47,
   "id": "46bb86bb-8797-49b8-813f-26abfcaaae16",
   "metadata": {},
   "outputs": [
    {
     "data": {
      "text/plain": [
       "converted\n",
       "0    35895\n",
       "1     4589\n",
       "dtype: int64"
      ]
     },
     "execution_count": 47,
     "metadata": {},
     "output_type": "execute_result"
    }
   ],
   "source": [
    "df.value_counts(df['converted'])"
   ]
  },
  {
   "cell_type": "markdown",
   "id": "ce291973-2feb-4d6b-9fe7-b250955c5643",
   "metadata": {},
   "source": [
    "## Análisis Exploratorio."
   ]
  },
  {
   "cell_type": "markdown",
   "id": "eb2926c7-42e4-4b6d-a748-f7e3ac999213",
   "metadata": {},
   "source": [
    "### El diseño nuevo/viejo de la página web y las imagenes nuevas/viejas."
   ]
  },
  {
   "cell_type": "markdown",
   "id": "bd2f52d9-e3ee-42e9-8780-3a791c11331e",
   "metadata": {},
   "source": [
    "#### Radio de Conversión "
   ]
  },
  {
   "cell_type": "code",
   "execution_count": 48,
   "id": "9a374066-13ef-4bf7-b304-ba6bee0affd9",
   "metadata": {},
   "outputs": [
    {
     "name": "stdout",
     "output_type": "stream",
     "text": [
      "treatment  new_images\n",
      "no         no            0.107104\n",
      "           yes           0.112538\n",
      "yes        no            0.120047\n",
      "           yes           0.113724\n",
      "Name: converted, dtype: float64\n"
     ]
    }
   ],
   "source": [
    "# Agrupar los datos por treatmen y new_images, calculamos la media del radio de conversión para cada grupo.\n",
    "conversion_rates = df.groupby(['treatment', 'new_images'])['converted'].mean()\n",
    "\n",
    "# Imprimir los radios de conversión para cada grupo\n",
    "print(conversion_rates)"
   ]
  },
  {
   "cell_type": "markdown",
   "id": "fc51c446-52e4-4abd-a3a1-ecb52bd3299f",
   "metadata": {},
   "source": [
    "### ¿Pueden los incrementos observados ser explicador por el azar?\n",
    "\n",
    "Para que podamos hacer esta observación hacemos el siguiente A/B test (chi square)"
   ]
  },
  {
   "cell_type": "code",
   "execution_count": 50,
   "id": "bda1c871-e2a9-4f2f-99f9-437806c4b8d4",
   "metadata": {},
   "outputs": [
    {
     "name": "stdout",
     "output_type": "stream",
     "text": [
      "Los incrementos observados en los radios de conversión no son estadisticamente significantes\n"
     ]
    }
   ],
   "source": [
    "# Crear una tabla de contingencia que cuente cada una de la combinaciones posibles.\n",
    "contingency_table = pd.crosstab(df['treatment'], df['new_images'], values=df['converted'], aggfunc='sum')\n",
    "\n",
    "# Hacer un chi-squared test\n",
    "chi2, p_value, _, _ = chi2_contingency(contingency_table)\n",
    "\n",
    "# Establecer el nivel de significancia\n",
    "alpha = 0.05\n",
    "\n",
    "# Checar si el p-value is menos que el nivel de significancia\n",
    "if p_value < alpha:\n",
    "    print(\"Los incrementos observados en los radios de conversión son estadisticamente significantes.\")\n",
    "else:\n",
    "    print(\"Los incrementos observados en los radios de conversión no son estadisticamente significantes\")"
   ]
  },
  {
   "cell_type": "markdown",
   "id": "629db824-af5f-4dbf-8cc6-334630a856ff",
   "metadata": {},
   "source": [
    "### ¿Cuál es la versión de la pagina que es más recomendada usar?"
   ]
  },
  {
   "cell_type": "markdown",
   "id": "60fa4d2d-4d03-4846-8e8c-0aaa1967a49f",
   "metadata": {},
   "source": [
    "Basados en el A/B test, podemos ver que los aumentos en los radios de conversión no tienen significancia estadistica, es decir, no podemos concluir que alguna de las comvinaciones sea la más adeacuada para usar.\n",
    "Al no poder definir dicha combinaciones en base al A/B test, podemos simplemente decir que ya sería lo \"mejor\" usar la combinacion que mayor radio de converción tuvo, **treatment = Yes** and **new_images = No**"
   ]
  },
  {
   "cell_type": "code",
   "execution_count": null,
   "id": "42cbe290-7c40-4721-9f53-39639bf4031e",
   "metadata": {},
   "outputs": [],
   "source": []
  }
 ],
 "metadata": {
  "kernelspec": {
   "display_name": "Python 3 (ipykernel)",
   "language": "python",
   "name": "python3"
  },
  "language_info": {
   "codemirror_mode": {
    "name": "ipython",
    "version": 3
   },
   "file_extension": ".py",
   "mimetype": "text/x-python",
   "name": "python",
   "nbconvert_exporter": "python",
   "pygments_lexer": "ipython3",
   "version": "3.9.16"
  }
 },
 "nbformat": 4,
 "nbformat_minor": 5
}
